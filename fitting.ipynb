{
 "cells": [
  {
   "cell_type": "code",
   "execution_count": null,
   "metadata": {},
   "outputs": [],
   "source": [
    "import numpy as np\n",
    "import matplotlib.pyplot as plt\n",
    "from scipy.optimize import curve_fit\n",
    "import math\n",
    "\n",
    "from matplotlib import rc\n",
    "from numpy import array\n",
    "import matplotlib.lines as mlines\n",
    "from itertools import islice\n",
    "import csv\n",
    "import pandas as pd"
   ]
  },
  {
   "cell_type": "markdown",
   "metadata": {},
   "source": [
    "## Run linear fitting"
   ]
  },
  {
   "cell_type": "code",
   "execution_count": null,
   "metadata": {},
   "outputs": [],
   "source": [
    "def func(x, k, b):\n",
    "    return k * x + b"
   ]
  },
  {
   "cell_type": "code",
   "execution_count": null,
   "metadata": {},
   "outputs": [],
   "source": [
    "def fitting(inputpath, filename, outputpath, power, power_err, area):\n",
    "    \n",
    "    cols = ['Thickness', 'DeltaT', 'Error']\n",
    "\n",
    "    df = pd.read_csv(inputpath+filename+'.csv', header=None, names=cols)[1:]\n",
    "    df = df.astype(np.float)\n",
    "    y = np.array(df['DeltaT'])\n",
    "    yerr = np.array(df['Error'])\n",
    "    x = np.array(df['Thickness'])\n",
    "    \n",
    "    para, cov = curve_fit(func, x, y, sigma = yerr, absolute_sigma = True)\n",
    "    para_err = np.sqrt(np.diag(cov))\n",
    "\n",
    "    TC = 1.0/para[0]*power/area\n",
    "    TC_err = math.sqrt(power**2/(area**2 * para[0]**4)*para_err[0]**2 + 1.0/(para[0]**2 * area**2) * power_err**2)\n",
    "    \n",
    "    fig = plt.figure(figsize=(11,8))\n",
    "    plt.plot(x, func(x, *para), 'b-', label='curve: k={:.2f} +/- {:.2f}, b={:.2f} +/- {:.2f}'.format(para[0],para_err[0],para[1],para_err[1]))\n",
    "    plt.plot(x, y, '.r', label='data')\n",
    "    plt.xlabel('Thickness/m')\n",
    "    plt.ylabel('DeltaT/K')\n",
    "    plt.title(filename)\n",
    "    plt.legend()\n",
    "    plt.text(0.01,2.5,'TC = {:.2f} +/- {:.2f}'.format(TC, TC_err), size=12)\n",
    "    plt.show()\n",
    "    fig.savefig(outputpath+filename+'.png')"
   ]
  },
  {
   "cell_type": "code",
   "execution_count": null,
   "metadata": {},
   "outputs": [],
   "source": [
    "inpath = '/Users/wei/Desktop/'\n",
    "filename = 'output'\n",
    "outpath = '/Users/wei/Desktop/'\n",
    "\n",
    "P = 4.25 # power\n",
    "P_err = 4.25 * 0.01 # error on the power supply\n",
    "A = 0.015*0.015 # cross sectional area of samples and thermistors\n",
    "\n",
    "\n",
    "fitting(inpath,filename,outpath,P,P_err,A)"
   ]
  },
  {
   "cell_type": "code",
   "execution_count": null,
   "metadata": {},
   "outputs": [],
   "source": []
  }
 ],
 "metadata": {
  "kernelspec": {
   "display_name": "Python 3",
   "language": "python",
   "name": "python3"
  },
  "language_info": {
   "codemirror_mode": {
    "name": "ipython",
    "version": 3
   },
   "file_extension": ".py",
   "mimetype": "text/x-python",
   "name": "python",
   "nbconvert_exporter": "python",
   "pygments_lexer": "ipython3",
   "version": "3.7.3"
  }
 },
 "nbformat": 4,
 "nbformat_minor": 2
}
