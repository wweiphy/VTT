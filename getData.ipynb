{
 "cells": [
  {
   "cell_type": "code",
   "execution_count": null,
   "metadata": {},
   "outputs": [],
   "source": [
    "import numpy as np\n",
    "import matplotlib.pyplot as plt\n",
    "from matplotlib import rc\n",
    "from numpy import array\n",
    "import matplotlib.lines as mlines\n",
    "from itertools import islice\n",
    "import csv\n",
    "import pandas as pd\n",
    "import math\n",
    "import glob\n",
    "import re"
   ]
  },
  {
   "cell_type": "markdown",
   "metadata": {},
   "source": [
    "## Obtain DT, thickness and error from the raw data csv files\n"
   ]
  },
  {
   "cell_type": "code",
   "execution_count": null,
   "metadata": {},
   "outputs": [],
   "source": [
    "def getData(inputpath, outputpath, outfilename):\n",
    "  \n",
    "    files = glob.glob(inputpath+'*csv')\n",
    "    cols1 = ['number', 'time', 'T0', 'T1','T2', 'T3', 'T4', 'T5']\n",
    "    cols2 = ['number', 'time','T3', 'T4', 'T5']\n",
    "    cols3 = ['number', 'time','T0', 'T2', 'T3', 'T4','T5']\n",
    "    cols4 = ['number', 'time','T4', 'T3', 'T5']\n",
    "\n",
    "    x = []\n",
    "    y = []\n",
    "    y_errs = []\n",
    "    for i, file in enumerate(files):\n",
    "        print(file)\n",
    "\n",
    "        # read file\n",
    "        df = pd.read_csv(file, header=None, names=cols3)\n",
    "        df_sub = df[['number', 'T3', 'T4', 'T5']].iloc[ 7:] # take only the last 20 min data\n",
    "        df_sub = df_sub.astype('float')\n",
    "\n",
    "        DT1 = np.array(df_sub['T3'] - df_sub['T4'])\n",
    "        DT2 = np.array(df_sub['T4'] - df_sub['T5'])\n",
    "        timestamp = np.array(df_sub['number'])\n",
    "\n",
    "        # plot DT vs timestamp\n",
    "\n",
    "        fig = plt.figure(figsize=(11,8))\n",
    "\n",
    "        plt.plot(timestamp, DT1, '-b', label='T3 - T4')\n",
    "\n",
    "        plt.annotate(DT1[-1],(timestamp[-1], DT1[-1]), textcoords=\"offset points\", xytext=(0,10), ha='center')\n",
    "        plt.annotate(DT2[-1],(timestamp[-1], DT2[-1]), textcoords=\"offset points\", xytext=(0,10), ha='center')\n",
    "\n",
    "        plt.plot(timestamp, DT2, '-r', label='T4 - T5')\n",
    "\n",
    "        plt.xlabel('Timestamp')\n",
    "        plt.ylabel('DeltaT')\n",
    "        plt.title(file.split('/')[-1])\n",
    "        plt.ylim(-1,10)\n",
    "        plt.xlim(0,5000)\n",
    "        plt.legend()\n",
    "        # plt.show()\n",
    "        fig.savefig('{}.png'.format(inputpath + file.split('/')[-1]))\n",
    "\n",
    "        # obtain data\n",
    "\n",
    "        DT1 = DT1[(len(df) - 1200) : ]\n",
    "        DT2 = DT2[(len(df) - 1200) : ]\n",
    "\n",
    "        y.append(DT1.mean()) \n",
    "        y.append(DT2.mean())\n",
    "        y_errs.append(DT1.std())\n",
    "        y_errs.append(DT2.std())\n",
    "\n",
    "        thick = re.findall('\\d+', (file.split('/')[-1]).split('_')[1]) # get sample thickness from the file name, should be aware of the sample order\n",
    "        x.append(thick[0])\n",
    "        x.append(thick[1])\n",
    "\n",
    "    x = np.array(x)\n",
    "    x = x.astype('float')\n",
    "    \n",
    "    # write to a csv file\n",
    "    df = pd.DataFrame({\"Thickness\" : x, \"DeltaT\" : y, \"Error\" : y_errs})\n",
    "    df.to_csv(outputpath+outfilename+\".csv\", index=False)\n"
   ]
  },
  {
   "cell_type": "code",
   "execution_count": null,
   "metadata": {},
   "outputs": [],
   "source": [
    "inpath = \"/Users/wei/Documents/Max_lab/AlCF_2020_2/\"\n",
    "outpath = '/Users/wei/Desktop/'\n",
    "\n",
    "getData(inputpath = inpath, outputpath = outpath, outfilename = 'output')"
   ]
  },
  {
   "cell_type": "code",
   "execution_count": null,
   "metadata": {},
   "outputs": [],
   "source": []
  }
 ],
 "metadata": {
  "kernelspec": {
   "display_name": "Python 3",
   "language": "python",
   "name": "python3"
  },
  "language_info": {
   "codemirror_mode": {
    "name": "ipython",
    "version": 3
   },
   "file_extension": ".py",
   "mimetype": "text/x-python",
   "name": "python",
   "nbconvert_exporter": "python",
   "pygments_lexer": "ipython3",
   "version": "3.7.3"
  }
 },
 "nbformat": 4,
 "nbformat_minor": 2
}
