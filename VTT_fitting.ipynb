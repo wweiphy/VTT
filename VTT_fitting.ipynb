{
 "cells": [
  {
   "cell_type": "markdown",
   "metadata": {},
   "source": [
    "# Run linear fitting\n",
    "\n",
    "## key imports"
   ]
  },
  {
   "cell_type": "code",
   "execution_count": null,
   "metadata": {},
   "outputs": [],
   "source": [
    "import numpy as np\n",
    "import matplotlib.pyplot as plt\n",
    "from scipy.optimize import curve_fit\n",
    "import math\n",
    "\n",
    "from matplotlib import rc\n",
    "from numpy import array\n",
    "import matplotlib.lines as mlines\n",
    "from itertools import islice\n",
    "import csv\n",
    "import pandas as pd"
   ]
  },
  {
   "cell_type": "markdown",
   "metadata": {},
   "source": [
    "## Constants"
   ]
  },
  {
   "cell_type": "code",
   "execution_count": null,
   "metadata": {},
   "outputs": [],
   "source": [
    "P = 4.25 # power\n",
    "P_err = 4.25 * 0.01 # error on the power supply\n",
    "A = 0.015*0.015 # cross sectional area of samples and thermistors\n",
    "\n",
    "M1 = True # Run method 1 if True"
   ]
  },
  {
   "cell_type": "markdown",
   "metadata": {},
   "source": [
    "## Function"
   ]
  },
  {
   "cell_type": "code",
   "execution_count": null,
   "metadata": {},
   "outputs": [],
   "source": [
    "def func(x, k, b):\n",
    "    return k * x + b"
   ]
  },
  {
   "cell_type": "markdown",
   "metadata": {},
   "source": [
    "## read csv file with saved DT, thickness and error"
   ]
  },
  {
   "cell_type": "code",
   "execution_count": null,
   "metadata": {},
   "outputs": [],
   "source": [
    "cols = ['Thickness', 'DeltaT', 'Error']\n",
    "\n",
    "df = pd.read_csv('/Users/wei/In_plane_2.csv', header=None, names=cols)\n",
    "\n",
    "y = np.array(df['DeltaT'])\n",
    "yerr = np.array(df['Error'])\n",
    "yerrs_inv = 1.0/yerr\n",
    "x = np.array(df['Thickness'])\n",
    "\n",
    "# xdata = np.array([10,36])\n",
    "# x = 0.001 * xdata\n",
    "# y = np.array([1.65980, 2.61508])\n",
    "# yerrs = np.array([0.07900646, 0.10100583])"
   ]
  },
  {
   "cell_type": "markdown",
   "metadata": {},
   "source": [
    "## Method 1 - use y error\n",
    "\n",
    "## Apply fitting, obtain parameters and corresponding error "
   ]
  },
  {
   "cell_type": "code",
   "execution_count": null,
   "metadata": {},
   "outputs": [],
   "source": [
    "if M1:\n",
    "    para, cov = curve_fit(func, x, y, sigma = yerrs, absolute_sigma = True)\n",
    "    para_err = np.sqrt(np.diag(cov))"
   ]
  },
  {
   "cell_type": "markdown",
   "metadata": {},
   "source": [
    "## Method 2 - use inverse y error"
   ]
  },
  {
   "cell_type": "code",
   "execution_count": null,
   "metadata": {},
   "outputs": [],
   "source": [
    "if not M1:\n",
    "    para, cov = np.polyfit(x, y, 1, full=False, w=yerrs_inv, cov='unscaled')\n",
    "    para_err = np.sqrt(np.diag(cov))\n"
   ]
  },
  {
   "cell_type": "markdown",
   "metadata": {},
   "source": [
    "## Calculate TC and its error"
   ]
  },
  {
   "cell_type": "code",
   "execution_count": null,
   "metadata": {},
   "outputs": [],
   "source": [
    "TC = 1.0/para[0]*P/A\n",
    "TC_err = math.sqrt(P**2/(A**2 * para[0]**4)*para_err[0]**2 + 1.0/(para[0]**2 * A**2) * P_err**2)"
   ]
  },
  {
   "cell_type": "markdown",
   "metadata": {},
   "source": [
    "## Plot"
   ]
  },
  {
   "cell_type": "code",
   "execution_count": null,
   "metadata": {},
   "outputs": [],
   "source": [
    "fig = plt.figure(figsize=(11,8))\n",
    "plt.plot(x, func(x, *para), 'b-', label='curve: k={:.2f} +/- {:.2f}, b={:.2f} +/- {:.2f}'.format(para[0],para_err[0],para[1],para_err[1]))\n",
    "plt.plot(x, y, '.r', label='data')\n",
    "plt.xlabel('Thickness/m')\n",
    "plt.ylabel('DeltaT/K')\n",
    "plt.title('ALN')\n",
    "plt.legend()\n",
    "plt.text(0.01,2.5,'TC = {:.2f} +/- {:.2f}'.format(TC, TC_err), size=12)\n",
    "plt.show()\n",
    "fig.savefig('/Users/wei/Desktop/ALN.png')"
   ]
  }
 ],
 "metadata": {
  "kernelspec": {
   "display_name": "Python 3",
   "language": "python",
   "name": "python3"
  },
  "language_info": {
   "codemirror_mode": {
    "name": "ipython",
    "version": 3
   },
   "file_extension": ".py",
   "mimetype": "text/x-python",
   "name": "python",
   "nbconvert_exporter": "python",
   "pygments_lexer": "ipython3",
   "version": "3.7.3"
  }
 },
 "nbformat": 4,
 "nbformat_minor": 2
}
